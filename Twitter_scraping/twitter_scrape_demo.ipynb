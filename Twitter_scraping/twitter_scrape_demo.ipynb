{
 "cells": [
  {
   "cell_type": "code",
   "execution_count": 2,
   "metadata": {
    "collapsed": true
   },
   "outputs": [],
   "source": [
    "import got3\n",
    "import pandas as pd\n",
    "import numpy as np"
   ]
  },
  {
   "cell_type": "code",
   "execution_count": 16,
   "metadata": {
    "collapsed": false
   },
   "outputs": [],
   "source": [
    "\n",
    "def printTweet(descr, t):\n",
    "    print(descr)\n",
    "    print(\"Username: %s\" % t.username)\n",
    "    print(\"Retweets: %d\" % t.retweets)\n",
    "    print(\"Text: %s\" % t.text)\n",
    "    print(\"Mentions: %s\" % t.mentions)\n",
    "    print(\"Hashtags: %s\" % t.hashtags)\n",
    "    print(\"ID: %s\\n\" % t.id)\n",
    "\n",
    "# Example 1 - Get tweets by username\n",
    "# tweetCriteria = got3.manager.TweetCriteria().setUsername('barackobama').setMaxTweets(1)\n",
    "# tweet = got3.manager.TweetManager.getTweets(tweetCriteria)[0]\n",
    "\n",
    "# printTweet(\"### Example 1 - Get tweets by username [barackobama]\", tweet)\n",
    "\n",
    "# # Example 2 - Get tweets by query search\n",
    "tweetCriteria = got3.manager.TweetCriteria().setQuerySearch('tesla').setSince(\"2016-09-01\").setUntil(\"2016-09-02\").setMaxTweets(1)\n",
    "tweet = got3.manager.TweetManager.getTweets(tweetCriteria)\n",
    "\n",
    "# printTweet(\"### Example 2 - Get tweets by query search [europe refugees]\", tweet)\n",
    "\n",
    "# Example 3 - Get tweets by username and bound dates\n",
    "# tweetCriteria = got3.manager.TweetCriteria().setUsername(\"realDonaldTrump\").setSince(\"2015-09-01\").setUntil(\"2016-09-12\").setMaxTweets(10)\n",
    "# tweet = got3.manager.TweetManager.getTweets(tweetCriteria)\n",
    "# printTweet(\"### Example 3 - Get tweets by username and bound dates [realDonaldTrump, '2015-09-10', '2015-09-12']\", t)\n",
    "    \n",
    "all_id = []\n",
    "all_date = []\n",
    "for t in tweet:\n",
    "    all_id.append(t.id)\n",
    "    all_date.append(t.date)\n",
    "    # print(t.id)\n",
    "all_data = {'id': all_id, 'datetime': all_date}\n",
    "df = pd.DataFrame(all_data)\n",
    "df.to_csv('output.csv')"
   ]
  },
  {
   "cell_type": "code",
   "execution_count": 20,
   "metadata": {
    "collapsed": false
   },
   "outputs": [
    {
     "data": {
      "text/plain": [
       "'tesla'"
      ]
     },
     "execution_count": 20,
     "metadata": {},
     "output_type": "execute_result"
    }
   ],
   "source": [
    "tweetCriteria.querySearch"
   ]
  },
  {
   "cell_type": "code",
   "execution_count": 10,
   "metadata": {
    "collapsed": false
   },
   "outputs": [],
   "source": [
    "df = pd.read_csv('output_got3.csv')"
   ]
  },
  {
   "cell_type": "code",
   "execution_count": 15,
   "metadata": {
    "collapsed": false
   },
   "outputs": [
    {
     "data": {
      "text/html": [
       "<div>\n",
       "<table border=\"1\" class=\"dataframe\">\n",
       "  <thead>\n",
       "    <tr style=\"text-align: right;\">\n",
       "      <th></th>\n",
       "      <th>username</th>\n",
       "      <th>date</th>\n",
       "      <th>retweets</th>\n",
       "      <th>favorites</th>\n",
       "      <th>text</th>\n",
       "      <th>geo</th>\n",
       "      <th>mentions</th>\n",
       "      <th>hashtags</th>\n",
       "      <th>id</th>\n",
       "      <th>permalink</th>\n",
       "    </tr>\n",
       "  </thead>\n",
       "  <tbody>\n",
       "    <tr>\n",
       "      <th>0</th>\n",
       "      <td>stldesktop</td>\n",
       "      <td>2017-03-07 13:42</td>\n",
       "      <td>0</td>\n",
       "      <td>0</td>\n",
       "      <td>Created more refugees than Europe or Trump can...</td>\n",
       "      <td>NaN</td>\n",
       "      <td>NaN</td>\n",
       "      <td>NaN</td>\n",
       "      <td>839229802372554756</td>\n",
       "      <td>https://twitter.com/stldesktop/status/83922980...</td>\n",
       "    </tr>\n",
       "    <tr>\n",
       "      <th>1</th>\n",
       "      <td>lukejbutterly</td>\n",
       "      <td>2017-03-07 13:36</td>\n",
       "      <td>3</td>\n",
       "      <td>1</td>\n",
       "      <td>There are 90(comma)000 child refugees in Europ...</td>\n",
       "      <td>NaN</td>\n",
       "      <td>NaN</td>\n",
       "      <td>#Dubs #DUP #UUP</td>\n",
       "      <td>839228383196246018</td>\n",
       "      <td>https://twitter.com/lukejbutterly/status/83922...</td>\n",
       "    </tr>\n",
       "    <tr>\n",
       "      <th>2</th>\n",
       "      <td>LadydeManorBorn</td>\n",
       "      <td>2017-03-07 09:01</td>\n",
       "      <td>9</td>\n",
       "      <td>7</td>\n",
       "      <td>It would just be horrible to discover Obama an...</td>\n",
       "      <td>NaN</td>\n",
       "      <td>NaN</td>\n",
       "      <td>#Vault7 #WikiLeaks #ObamaGate #Obama #Muslims ...</td>\n",
       "      <td>839159099807891462</td>\n",
       "      <td>https://twitter.com/LadydeManorBorn/status/839...</td>\n",
       "    </tr>\n",
       "    <tr>\n",
       "      <th>3</th>\n",
       "      <td>FForstmaier</td>\n",
       "      <td>2017-03-07 08:13</td>\n",
       "      <td>20</td>\n",
       "      <td>33</td>\n",
       "      <td>Es gibt keine Verpflichtung für Europa die gan...</td>\n",
       "      <td>NaN</td>\n",
       "      <td>NaN</td>\n",
       "      <td>NaN</td>\n",
       "      <td>839147051724201986</td>\n",
       "      <td>https://twitter.com/FForstmaier/status/8391470...</td>\n",
       "    </tr>\n",
       "    <tr>\n",
       "      <th>4</th>\n",
       "      <td>RefugeeData</td>\n",
       "      <td>2017-03-07 06:52</td>\n",
       "      <td>26</td>\n",
       "      <td>18</td>\n",
       "      <td>We've helped just 0.002% of Europe 's unaccomp...</td>\n",
       "      <td>NaN</td>\n",
       "      <td>@stellacreasy</td>\n",
       "      <td>NaN</td>\n",
       "      <td>839126714445889536</td>\n",
       "      <td>https://twitter.com/RefugeeData/status/8391267...</td>\n",
       "    </tr>\n",
       "  </tbody>\n",
       "</table>\n",
       "</div>"
      ],
      "text/plain": [
       "          username              date  retweets  favorites  \\\n",
       "0       stldesktop  2017-03-07 13:42         0          0   \n",
       "1    lukejbutterly  2017-03-07 13:36         3          1   \n",
       "2  LadydeManorBorn  2017-03-07 09:01         9          7   \n",
       "3      FForstmaier  2017-03-07 08:13        20         33   \n",
       "4      RefugeeData  2017-03-07 06:52        26         18   \n",
       "\n",
       "                                                text  geo       mentions  \\\n",
       "0  Created more refugees than Europe or Trump can...  NaN            NaN   \n",
       "1  There are 90(comma)000 child refugees in Europ...  NaN            NaN   \n",
       "2  It would just be horrible to discover Obama an...  NaN            NaN   \n",
       "3  Es gibt keine Verpflichtung für Europa die gan...  NaN            NaN   \n",
       "4  We've helped just 0.002% of Europe 's unaccomp...  NaN  @stellacreasy   \n",
       "\n",
       "                                            hashtags                  id  \\\n",
       "0                                                NaN  839229802372554756   \n",
       "1                                    #Dubs #DUP #UUP  839228383196246018   \n",
       "2  #Vault7 #WikiLeaks #ObamaGate #Obama #Muslims ...  839159099807891462   \n",
       "3                                                NaN  839147051724201986   \n",
       "4                                                NaN  839126714445889536   \n",
       "\n",
       "                                           permalink  \n",
       "0  https://twitter.com/stldesktop/status/83922980...  \n",
       "1  https://twitter.com/lukejbutterly/status/83922...  \n",
       "2  https://twitter.com/LadydeManorBorn/status/839...  \n",
       "3  https://twitter.com/FForstmaier/status/8391470...  \n",
       "4  https://twitter.com/RefugeeData/status/8391267...  "
      ]
     },
     "execution_count": 15,
     "metadata": {},
     "output_type": "execute_result"
    }
   ],
   "source": [
    "df.head()"
   ]
  }
 ],
 "metadata": {
  "kernelspec": {
   "display_name": "Python 3",
   "language": "python",
   "name": "python3"
  },
  "language_info": {
   "codemirror_mode": {
    "name": "ipython",
    "version": 3
   },
   "file_extension": ".py",
   "mimetype": "text/x-python",
   "name": "python",
   "nbconvert_exporter": "python",
   "pygments_lexer": "ipython3",
   "version": "3.5.2"
  }
 },
 "nbformat": 4,
 "nbformat_minor": 2
}

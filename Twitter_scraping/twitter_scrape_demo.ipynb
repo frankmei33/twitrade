{
 "cells": [
  {
   "cell_type": "code",
   "execution_count": 13,
   "metadata": {
    "collapsed": true,
    "deletable": true,
    "editable": true
   },
   "outputs": [],
   "source": [
    "import urllib.request, urllib.parse, urllib.error,urllib.request,urllib.error,urllib.parse,json,re,datetime,sys,http.cookiejar\n",
    "import time\n",
    "import got3\n",
    "import pandas as pd\n",
    "import numpy as np\n",
    "from pyquery import PyQuery\n",
    "import json"
   ]
  },
  {
   "cell_type": "code",
   "execution_count": 20,
   "metadata": {
    "collapsed": false
   },
   "outputs": [
    {
     "name": "stdout",
     "output_type": "stream",
     "text": [
      "https://twitter.com/i/search/timeline?f=realtime&q=%20since%3A2016-09-01%20until%3A2016-09-02%20tesla&src=typd&lang=en&max_position=\n"
     ]
    }
   ],
   "source": [
    "t = TweetManager()\n",
    "cookieJar = http.cookiejar.CookieJar()\n",
    "tweetCriteria.setLang('en')\n",
    "j = t.getJsonReponse(tweetCriteria, '', cookieJar)"
   ]
  },
  {
   "cell_type": "code",
   "execution_count": 23,
   "metadata": {
    "collapsed": false
   },
   "outputs": [],
   "source": [
    "refreshCursor = j['min_position']\n",
    "tweets = PyQuery(j['items_html'])('div.js-stream-tweet')"
   ]
  },
  {
   "cell_type": "code",
   "execution_count": 24,
   "metadata": {
    "collapsed": false
   },
   "outputs": [],
   "source": [
    "tweetHTML = tweets[0]\n",
    "tweetPQ = PyQuery(tweetHTML)"
   ]
  },
  {
   "cell_type": "code",
   "execution_count": 40,
   "metadata": {
    "collapsed": false
   },
   "outputs": [
    {
     "data": {
      "text/plain": [
       "0"
      ]
     },
     "execution_count": 40,
     "metadata": {},
     "output_type": "execute_result"
    }
   ],
   "source": [
    "int(tweetPQ(\"span.ProfileTweet-action--retweet span.ProfileTweet-actionCount\").attr(\"data-tweet-stat-count\").replace(\",\", \"\"))"
   ]
  },
  {
   "cell_type": "code",
   "execution_count": 4,
   "metadata": {
    "collapsed": true
   },
   "outputs": [],
   "source": [
    "def printTweet(descr, t):\n",
    "    print(descr)\n",
    "    print(\"Username: %s\" % t.username)\n",
    "    print(\"Retweets: %d\" % t.retweets)\n",
    "    print(\"Text: %s\" % t.text)\n",
    "    print(\"Mentions: %s\" % t.mentions)\n",
    "    print(\"Hashtags: %s\" % t.hashtags)\n",
    "    print(\"ID: %s\\n\" % t.id)\n",
    "\n",
    "# Example 1 - Get tweets by username\n",
    "# tweetCriteria = got3.manager.TweetCriteria().setUsername('barackobama').setMaxTweets(1)\n",
    "# tweet = got3.manager.TweetManager.getTweets(tweetCriteria)[0]\n",
    "\n",
    "# printTweet(\"### Example 1 - Get tweets by username [barackobama]\", tweet)\n",
    "\n",
    "# # Example 2 - Get tweets by query search\n",
    "tweetCriteria = got3.manager.TweetCriteria().setQuerySearch('tesla').setSince(\"2016-09-01\").setUntil(\"2016-09-02\").setMaxTweets(1)\n",
    "tweet = got3.manager.TweetManager.getTweets(tweetCriteria)"
   ]
  },
  {
   "cell_type": "code",
   "execution_count": null,
   "metadata": {
    "collapsed": false,
    "deletable": true,
    "editable": true
   },
   "outputs": [],
   "source": [
    "# printTweet(\"### Example 2 - Get tweets by query search [europe refugees]\", tweet)\n",
    "\n",
    "# Example 3 - Get tweets by username and bound dates\n",
    "# tweetCriteria = got3.manager.TweetCriteria().setUsername(\"realDonaldTrump\").setSince(\"2015-09-01\").setUntil(\"2016-09-12\").setMaxTweets(10)\n",
    "# tweet = got3.manager.TweetManager.getTweets(tweetCriteria)\n",
    "# printTweet(\"### Example 3 - Get tweets by username and bound dates [realDonaldTrump, '2015-09-10', '2015-09-12']\", t)\n",
    "    \n",
    "all_id = []\n",
    "all_date = []\n",
    "for t in tweet:\n",
    "    all_id.append(t.id)\n",
    "    all_date.append(t.date)\n",
    "    # print(t.id)\n",
    "all_data = {'id': all_id, 'datetime': all_date}\n",
    "df = pd.DataFrame(all_data)\n",
    "df.to_csv('output.csv')"
   ]
  },
  {
   "cell_type": "code",
   "execution_count": null,
   "metadata": {
    "collapsed": false,
    "deletable": true,
    "editable": true
   },
   "outputs": [],
   "source": [
    "tweetCriteria."
   ]
  },
  {
   "cell_type": "code",
   "execution_count": null,
   "metadata": {
    "collapsed": false,
    "deletable": true,
    "editable": true
   },
   "outputs": [],
   "source": [
    "df = pd.read_csv('output_got3.csv')"
   ]
  },
  {
   "cell_type": "code",
   "execution_count": null,
   "metadata": {
    "collapsed": false,
    "deletable": true,
    "editable": true
   },
   "outputs": [],
   "source": [
    "df.head()"
   ]
  }
 ],
 "metadata": {
  "kernelspec": {
   "display_name": "Python 3",
   "language": "python",
   "name": "python3"
  },
  "language_info": {
   "codemirror_mode": {
    "name": "ipython",
    "version": 3
   },
   "file_extension": ".py",
   "mimetype": "text/x-python",
   "name": "python",
   "nbconvert_exporter": "python",
   "pygments_lexer": "ipython3",
   "version": "3.5.3"
  }
 },
 "nbformat": 4,
 "nbformat_minor": 2
}
